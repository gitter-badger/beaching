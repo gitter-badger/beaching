{
 "cells": [
  {
   "cell_type": "code",
   "execution_count": 1,
   "metadata": {},
   "outputs": [],
   "source": [
    "import pandas as pd\n",
    "import numpy as np\n",
    "import matplotlib.pyplot as pl\n",
    "import seaborn as sb\n",
    "%matplotlib inline"
   ]
  },
  {
   "cell_type": "code",
   "execution_count": 2,
   "metadata": {
    "collapsed": true
   },
   "outputs": [],
   "source": [
    "dfStrand = pd.read_pickle('./dfStrandedReindexed.pkl')\n",
    "dfWind = pd.read_pickle('./dfCleanWind.pkl')"
   ]
  },
  {
   "cell_type": "code",
   "execution_count": 6,
   "metadata": {},
   "outputs": [
    {
     "data": {
      "text/html": [
       "<div>\n",
       "<style>\n",
       "    .dataframe thead tr:only-child th {\n",
       "        text-align: right;\n",
       "    }\n",
       "\n",
       "    .dataframe thead th {\n",
       "        text-align: left;\n",
       "    }\n",
       "\n",
       "    .dataframe tbody tr th {\n",
       "        vertical-align: top;\n",
       "    }\n",
       "</style>\n",
       "<table border=\"1\" class=\"dataframe\">\n",
       "  <thead>\n",
       "    <tr style=\"text-align: right;\">\n",
       "      <th></th>\n",
       "      <th>WVHT</th>\n",
       "      <th>WTMP</th>\n",
       "      <th>WSPD</th>\n",
       "      <th>WDIR</th>\n",
       "    </tr>\n",
       "    <tr>\n",
       "      <th>datetime</th>\n",
       "      <th></th>\n",
       "      <th></th>\n",
       "      <th></th>\n",
       "      <th></th>\n",
       "    </tr>\n",
       "  </thead>\n",
       "  <tbody>\n",
       "    <tr>\n",
       "      <th>2002-01-01 00:00:00</th>\n",
       "      <td>2.17</td>\n",
       "      <td>7.1</td>\n",
       "      <td>12.4</td>\n",
       "      <td>255.0</td>\n",
       "    </tr>\n",
       "    <tr>\n",
       "      <th>2002-01-01 01:00:00</th>\n",
       "      <td>2.07</td>\n",
       "      <td>7.0</td>\n",
       "      <td>12.3</td>\n",
       "      <td>257.0</td>\n",
       "    </tr>\n",
       "    <tr>\n",
       "      <th>2002-01-01 02:00:00</th>\n",
       "      <td>2.33</td>\n",
       "      <td>7.0</td>\n",
       "      <td>12.5</td>\n",
       "      <td>258.0</td>\n",
       "    </tr>\n",
       "    <tr>\n",
       "      <th>2002-01-01 03:00:00</th>\n",
       "      <td>2.53</td>\n",
       "      <td>7.1</td>\n",
       "      <td>13.2</td>\n",
       "      <td>257.0</td>\n",
       "    </tr>\n",
       "    <tr>\n",
       "      <th>2002-01-01 04:00:00</th>\n",
       "      <td>2.43</td>\n",
       "      <td>7.1</td>\n",
       "      <td>12.4</td>\n",
       "      <td>267.0</td>\n",
       "    </tr>\n",
       "  </tbody>\n",
       "</table>\n",
       "</div>"
      ],
      "text/plain": [
       "                     WVHT  WTMP  WSPD   WDIR\n",
       "datetime                                    \n",
       "2002-01-01 00:00:00  2.17   7.1  12.4  255.0\n",
       "2002-01-01 01:00:00  2.07   7.0  12.3  257.0\n",
       "2002-01-01 02:00:00  2.33   7.0  12.5  258.0\n",
       "2002-01-01 03:00:00  2.53   7.1  13.2  257.0\n",
       "2002-01-01 04:00:00  2.43   7.1  12.4  267.0"
      ]
     },
     "execution_count": 6,
     "metadata": {},
     "output_type": "execute_result"
    }
   ],
   "source": [
    "dfWind.head()"
   ]
  },
  {
   "cell_type": "code",
   "execution_count": 13,
   "metadata": {},
   "outputs": [],
   "source": [
    "dfWind.index = pd.to_datetime(dfWind.index)"
   ]
  },
  {
   "cell_type": "code",
   "execution_count": 18,
   "metadata": {},
   "outputs": [
    {
     "data": {
      "text/html": [
       "<div>\n",
       "<style>\n",
       "    .dataframe thead tr:only-child th {\n",
       "        text-align: right;\n",
       "    }\n",
       "\n",
       "    .dataframe thead th {\n",
       "        text-align: left;\n",
       "    }\n",
       "\n",
       "    .dataframe tbody tr th {\n",
       "        vertical-align: top;\n",
       "    }\n",
       "</style>\n",
       "<table border=\"1\" class=\"dataframe\">\n",
       "  <thead>\n",
       "    <tr style=\"text-align: right;\">\n",
       "      <th></th>\n",
       "      <th>WVHT</th>\n",
       "      <th>WTMP</th>\n",
       "      <th>WSPD</th>\n",
       "      <th>WDIR</th>\n",
       "    </tr>\n",
       "    <tr>\n",
       "      <th>datetime</th>\n",
       "      <th></th>\n",
       "      <th></th>\n",
       "      <th></th>\n",
       "      <th></th>\n",
       "    </tr>\n",
       "  </thead>\n",
       "  <tbody>\n",
       "    <tr>\n",
       "      <th>2002-01-01 00:00:00</th>\n",
       "      <td>2.17</td>\n",
       "      <td>7.1</td>\n",
       "      <td>12.4</td>\n",
       "      <td>255.0</td>\n",
       "    </tr>\n",
       "    <tr>\n",
       "      <th>2002-01-01 01:00:00</th>\n",
       "      <td>2.07</td>\n",
       "      <td>7.0</td>\n",
       "      <td>12.3</td>\n",
       "      <td>257.0</td>\n",
       "    </tr>\n",
       "    <tr>\n",
       "      <th>2002-01-01 02:00:00</th>\n",
       "      <td>2.33</td>\n",
       "      <td>7.0</td>\n",
       "      <td>12.5</td>\n",
       "      <td>258.0</td>\n",
       "    </tr>\n",
       "    <tr>\n",
       "      <th>2002-01-01 03:00:00</th>\n",
       "      <td>2.53</td>\n",
       "      <td>7.1</td>\n",
       "      <td>13.2</td>\n",
       "      <td>257.0</td>\n",
       "    </tr>\n",
       "    <tr>\n",
       "      <th>2002-01-01 04:00:00</th>\n",
       "      <td>2.43</td>\n",
       "      <td>7.1</td>\n",
       "      <td>12.4</td>\n",
       "      <td>267.0</td>\n",
       "    </tr>\n",
       "  </tbody>\n",
       "</table>\n",
       "</div>"
      ],
      "text/plain": [
       "                     WVHT  WTMP  WSPD   WDIR\n",
       "datetime                                    \n",
       "2002-01-01 00:00:00  2.17   7.1  12.4  255.0\n",
       "2002-01-01 01:00:00  2.07   7.0  12.3  257.0\n",
       "2002-01-01 02:00:00  2.33   7.0  12.5  258.0\n",
       "2002-01-01 03:00:00  2.53   7.1  13.2  257.0\n",
       "2002-01-01 04:00:00  2.43   7.1  12.4  267.0"
      ]
     },
     "execution_count": 18,
     "metadata": {},
     "output_type": "execute_result"
    }
   ],
   "source": [
    "dfWind.head()"
   ]
  },
  {
   "cell_type": "code",
   "execution_count": 30,
   "metadata": {},
   "outputs": [
    {
     "data": {
      "text/plain": [
       "1.0"
      ]
     },
     "execution_count": 30,
     "metadata": {},
     "output_type": "execute_result"
    }
   ],
   "source": [
    "np.cos(np.deg2rad(0))"
   ]
  },
  {
   "cell_type": "code",
   "execution_count": 31,
   "metadata": {
    "collapsed": true
   },
   "outputs": [],
   "source": [
    "dfWind[\"Easterly\"] = np.sin(np.deg2rad(dfWind.WDIR)) * dfWind.WSPD\n",
    "dfWind[\"Northerly\"] = np.cos(np.deg2rad(dfWind.WDIR)) * dfWind.WSPD"
   ]
  },
  {
   "cell_type": "code",
   "execution_count": 32,
   "metadata": {
    "collapsed": true
   },
   "outputs": [],
   "source": [
    "dfWind.to_pickle('dfCleanWindwEastWest.pkl')"
   ]
  },
  {
   "cell_type": "code",
   "execution_count": 35,
   "metadata": {},
   "outputs": [],
   "source": [
    "dfDailyWind = pd.DataFrame()\n",
    "dfDailyWind[[\"WVHT_min\", \"WVHT_max\", \"WVHT_median\"]] = dfWind.WVHT.resample(\"D\").apply([np.min, np.max, np.median])\n",
    "dfDailyWind[[\"WTMP_min\", \"WTMP_max\", \"WTMP_median\"]] = dfWind.WTMP.resample(\"D\").apply([np.min, np.max, np.median])\n",
    "dfDailyWind[[\"East_min\", \"East_max\", \"East_median\"]] = dfWind.Easterly.resample(\"D\").apply([np.min, np.max, np.median])\n",
    "dfDailyWind[[\"North_min\", \"North_max\", \"North_median\"]] = dfWind.Northerly.resample(\"D\").apply([np.min, np.max, np.median])"
   ]
  },
  {
   "cell_type": "code",
   "execution_count": 36,
   "metadata": {},
   "outputs": [
    {
     "data": {
      "text/html": [
       "<div>\n",
       "<style>\n",
       "    .dataframe thead tr:only-child th {\n",
       "        text-align: right;\n",
       "    }\n",
       "\n",
       "    .dataframe thead th {\n",
       "        text-align: left;\n",
       "    }\n",
       "\n",
       "    .dataframe tbody tr th {\n",
       "        vertical-align: top;\n",
       "    }\n",
       "</style>\n",
       "<table border=\"1\" class=\"dataframe\">\n",
       "  <thead>\n",
       "    <tr style=\"text-align: right;\">\n",
       "      <th></th>\n",
       "      <th>WVHT_min</th>\n",
       "      <th>WVHT_max</th>\n",
       "      <th>WVHT_median</th>\n",
       "      <th>WTMP_min</th>\n",
       "      <th>WTMP_max</th>\n",
       "      <th>WTMP_median</th>\n",
       "      <th>East_min</th>\n",
       "      <th>East_max</th>\n",
       "      <th>East_median</th>\n",
       "      <th>North_min</th>\n",
       "      <th>North_max</th>\n",
       "      <th>North_median</th>\n",
       "    </tr>\n",
       "    <tr>\n",
       "      <th>datetime</th>\n",
       "      <th></th>\n",
       "      <th></th>\n",
       "      <th></th>\n",
       "      <th></th>\n",
       "      <th></th>\n",
       "      <th></th>\n",
       "      <th></th>\n",
       "      <th></th>\n",
       "      <th></th>\n",
       "      <th></th>\n",
       "      <th></th>\n",
       "      <th></th>\n",
       "    </tr>\n",
       "  </thead>\n",
       "  <tbody>\n",
       "    <tr>\n",
       "      <th>1999-01-01</th>\n",
       "      <td>1.15</td>\n",
       "      <td>3.39</td>\n",
       "      <td>1.585</td>\n",
       "      <td>5.6</td>\n",
       "      <td>5.9</td>\n",
       "      <td>5.80</td>\n",
       "      <td>-16.536832</td>\n",
       "      <td>-0.562378</td>\n",
       "      <td>-8.951336</td>\n",
       "      <td>-7.067716</td>\n",
       "      <td>3.531732</td>\n",
       "      <td>-2.577027</td>\n",
       "    </tr>\n",
       "    <tr>\n",
       "      <th>1999-01-02</th>\n",
       "      <td>1.24</td>\n",
       "      <td>4.01</td>\n",
       "      <td>2.020</td>\n",
       "      <td>5.6</td>\n",
       "      <td>5.8</td>\n",
       "      <td>5.60</td>\n",
       "      <td>-16.564291</td>\n",
       "      <td>-5.562570</td>\n",
       "      <td>-8.798599</td>\n",
       "      <td>-3.404929</td>\n",
       "      <td>7.695768</td>\n",
       "      <td>2.027267</td>\n",
       "    </tr>\n",
       "    <tr>\n",
       "      <th>1999-01-03</th>\n",
       "      <td>0.58</td>\n",
       "      <td>4.17</td>\n",
       "      <td>1.230</td>\n",
       "      <td>5.6</td>\n",
       "      <td>5.6</td>\n",
       "      <td>5.60</td>\n",
       "      <td>-8.049343</td>\n",
       "      <td>16.840213</td>\n",
       "      <td>5.706339</td>\n",
       "      <td>-6.878073</td>\n",
       "      <td>3.912590</td>\n",
       "      <td>-1.854102</td>\n",
       "    </tr>\n",
       "    <tr>\n",
       "      <th>1999-01-04</th>\n",
       "      <td>3.68</td>\n",
       "      <td>5.82</td>\n",
       "      <td>4.560</td>\n",
       "      <td>5.6</td>\n",
       "      <td>5.8</td>\n",
       "      <td>5.65</td>\n",
       "      <td>-12.363851</td>\n",
       "      <td>15.895691</td>\n",
       "      <td>-9.928442</td>\n",
       "      <td>-15.464482</td>\n",
       "      <td>-2.903063</td>\n",
       "      <td>-6.238327</td>\n",
       "    </tr>\n",
       "    <tr>\n",
       "      <th>1999-01-05</th>\n",
       "      <td>1.61</td>\n",
       "      <td>3.61</td>\n",
       "      <td>2.610</td>\n",
       "      <td>5.5</td>\n",
       "      <td>5.6</td>\n",
       "      <td>5.60</td>\n",
       "      <td>-11.823519</td>\n",
       "      <td>-4.886402</td>\n",
       "      <td>-9.219372</td>\n",
       "      <td>-4.850000</td>\n",
       "      <td>2.770363</td>\n",
       "      <td>-1.476008</td>\n",
       "    </tr>\n",
       "  </tbody>\n",
       "</table>\n",
       "</div>"
      ],
      "text/plain": [
       "            WVHT_min  WVHT_max  WVHT_median  WTMP_min  WTMP_max  WTMP_median  \\\n",
       "datetime                                                                       \n",
       "1999-01-01      1.15      3.39        1.585       5.6       5.9         5.80   \n",
       "1999-01-02      1.24      4.01        2.020       5.6       5.8         5.60   \n",
       "1999-01-03      0.58      4.17        1.230       5.6       5.6         5.60   \n",
       "1999-01-04      3.68      5.82        4.560       5.6       5.8         5.65   \n",
       "1999-01-05      1.61      3.61        2.610       5.5       5.6         5.60   \n",
       "\n",
       "             East_min   East_max  East_median  North_min  North_max  \\\n",
       "datetime                                                              \n",
       "1999-01-01 -16.536832  -0.562378    -8.951336  -7.067716   3.531732   \n",
       "1999-01-02 -16.564291  -5.562570    -8.798599  -3.404929   7.695768   \n",
       "1999-01-03  -8.049343  16.840213     5.706339  -6.878073   3.912590   \n",
       "1999-01-04 -12.363851  15.895691    -9.928442 -15.464482  -2.903063   \n",
       "1999-01-05 -11.823519  -4.886402    -9.219372  -4.850000   2.770363   \n",
       "\n",
       "            North_median  \n",
       "datetime                  \n",
       "1999-01-01     -2.577027  \n",
       "1999-01-02      2.027267  \n",
       "1999-01-03     -1.854102  \n",
       "1999-01-04     -6.238327  \n",
       "1999-01-05     -1.476008  "
      ]
     },
     "execution_count": 36,
     "metadata": {},
     "output_type": "execute_result"
    }
   ],
   "source": [
    "dfDailyWind.head()"
   ]
  },
  {
   "cell_type": "code",
   "execution_count": 37,
   "metadata": {
    "collapsed": true
   },
   "outputs": [],
   "source": [
    "dfDailyWind.to_pickle('./dfDayWind.pkl')"
   ]
  },
  {
   "cell_type": "code",
   "execution_count": null,
   "metadata": {
    "collapsed": true
   },
   "outputs": [],
   "source": []
  }
 ],
 "metadata": {
  "kernelspec": {
   "display_name": "Python [conda root]",
   "language": "python",
   "name": "conda-root-py"
  },
  "language_info": {
   "codemirror_mode": {
    "name": "ipython",
    "version": 3
   },
   "file_extension": ".py",
   "mimetype": "text/x-python",
   "name": "python",
   "nbconvert_exporter": "python",
   "pygments_lexer": "ipython3",
   "version": "3.5.3"
  }
 },
 "nbformat": 4,
 "nbformat_minor": 2
}
