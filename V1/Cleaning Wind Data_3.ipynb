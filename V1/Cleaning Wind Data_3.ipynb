{
 "cells": [
  {
   "cell_type": "code",
   "execution_count": 1,
   "metadata": {
    "collapsed": true
   },
   "outputs": [],
   "source": [
    "import pandas as pd\n",
    "import numpy as np"
   ]
  },
  {
   "cell_type": "code",
   "execution_count": 2,
   "metadata": {
    "collapsed": true
   },
   "outputs": [],
   "source": [
    "dfWind = pd.read_pickle('./dfconcatWind44005.pkl')"
   ]
  },
  {
   "cell_type": "code",
   "execution_count": 3,
   "metadata": {},
   "outputs": [
    {
     "data": {
      "text/html": [
       "<div>\n",
       "<style>\n",
       "    .dataframe thead tr:only-child th {\n",
       "        text-align: right;\n",
       "    }\n",
       "\n",
       "    .dataframe thead th {\n",
       "        text-align: left;\n",
       "    }\n",
       "\n",
       "    .dataframe tbody tr th {\n",
       "        vertical-align: top;\n",
       "    }\n",
       "</style>\n",
       "<table border=\"1\" class=\"dataframe\">\n",
       "  <thead>\n",
       "    <tr style=\"text-align: right;\">\n",
       "      <th></th>\n",
       "      <th>APD</th>\n",
       "      <th>ATMP</th>\n",
       "      <th>BAR</th>\n",
       "      <th>DEWP</th>\n",
       "      <th>DPD</th>\n",
       "      <th>GST</th>\n",
       "      <th>MWD</th>\n",
       "      <th>PRES</th>\n",
       "      <th>TIDE</th>\n",
       "      <th>VIS</th>\n",
       "      <th>WD</th>\n",
       "      <th>WDIR</th>\n",
       "      <th>WSPD</th>\n",
       "      <th>WTMP</th>\n",
       "      <th>WVHT</th>\n",
       "      <th>mm</th>\n",
       "    </tr>\n",
       "    <tr>\n",
       "      <th>datetime</th>\n",
       "      <th></th>\n",
       "      <th></th>\n",
       "      <th></th>\n",
       "      <th></th>\n",
       "      <th></th>\n",
       "      <th></th>\n",
       "      <th></th>\n",
       "      <th></th>\n",
       "      <th></th>\n",
       "      <th></th>\n",
       "      <th></th>\n",
       "      <th></th>\n",
       "      <th></th>\n",
       "      <th></th>\n",
       "      <th></th>\n",
       "      <th></th>\n",
       "    </tr>\n",
       "  </thead>\n",
       "  <tbody>\n",
       "    <tr>\n",
       "      <th>2002-01-01 00:00:00</th>\n",
       "      <td>4.84</td>\n",
       "      <td>1.3</td>\n",
       "      <td>1009.9</td>\n",
       "      <td>999</td>\n",
       "      <td>6.25</td>\n",
       "      <td>16</td>\n",
       "      <td>999</td>\n",
       "      <td>NaN</td>\n",
       "      <td>99</td>\n",
       "      <td>99</td>\n",
       "      <td>255.0</td>\n",
       "      <td>NaN</td>\n",
       "      <td>12.4</td>\n",
       "      <td>7.1</td>\n",
       "      <td>2.17</td>\n",
       "      <td>NaN</td>\n",
       "    </tr>\n",
       "    <tr>\n",
       "      <th>2002-01-01 01:00:00</th>\n",
       "      <td>4.94</td>\n",
       "      <td>1.3</td>\n",
       "      <td>1010.8</td>\n",
       "      <td>999</td>\n",
       "      <td>6.25</td>\n",
       "      <td>15.2</td>\n",
       "      <td>999</td>\n",
       "      <td>NaN</td>\n",
       "      <td>99</td>\n",
       "      <td>99</td>\n",
       "      <td>257.0</td>\n",
       "      <td>NaN</td>\n",
       "      <td>12.3</td>\n",
       "      <td>7</td>\n",
       "      <td>2.07</td>\n",
       "      <td>NaN</td>\n",
       "    </tr>\n",
       "    <tr>\n",
       "      <th>2002-01-01 02:00:00</th>\n",
       "      <td>5.11</td>\n",
       "      <td>1.2</td>\n",
       "      <td>1010.9</td>\n",
       "      <td>999</td>\n",
       "      <td>6.25</td>\n",
       "      <td>15.8</td>\n",
       "      <td>999</td>\n",
       "      <td>NaN</td>\n",
       "      <td>99</td>\n",
       "      <td>99</td>\n",
       "      <td>258.0</td>\n",
       "      <td>NaN</td>\n",
       "      <td>12.5</td>\n",
       "      <td>7</td>\n",
       "      <td>2.33</td>\n",
       "      <td>NaN</td>\n",
       "    </tr>\n",
       "    <tr>\n",
       "      <th>2002-01-01 03:00:00</th>\n",
       "      <td>5.29</td>\n",
       "      <td>1.2</td>\n",
       "      <td>1010.9</td>\n",
       "      <td>999</td>\n",
       "      <td>6.67</td>\n",
       "      <td>16.7</td>\n",
       "      <td>999</td>\n",
       "      <td>NaN</td>\n",
       "      <td>99</td>\n",
       "      <td>99</td>\n",
       "      <td>257.0</td>\n",
       "      <td>NaN</td>\n",
       "      <td>13.2</td>\n",
       "      <td>7.1</td>\n",
       "      <td>2.53</td>\n",
       "      <td>NaN</td>\n",
       "    </tr>\n",
       "    <tr>\n",
       "      <th>2002-01-01 04:00:00</th>\n",
       "      <td>5.14</td>\n",
       "      <td>0.9</td>\n",
       "      <td>1010.9</td>\n",
       "      <td>999</td>\n",
       "      <td>5.88</td>\n",
       "      <td>15.2</td>\n",
       "      <td>999</td>\n",
       "      <td>NaN</td>\n",
       "      <td>99</td>\n",
       "      <td>99</td>\n",
       "      <td>267.0</td>\n",
       "      <td>NaN</td>\n",
       "      <td>12.4</td>\n",
       "      <td>7.1</td>\n",
       "      <td>2.43</td>\n",
       "      <td>NaN</td>\n",
       "    </tr>\n",
       "  </tbody>\n",
       "</table>\n",
       "</div>"
      ],
      "text/plain": [
       "                      APD ATMP     BAR DEWP   DPD   GST  MWD PRES TIDE VIS  \\\n",
       "datetime                                                                     \n",
       "2002-01-01 00:00:00  4.84  1.3  1009.9  999  6.25    16  999  NaN   99  99   \n",
       "2002-01-01 01:00:00  4.94  1.3  1010.8  999  6.25  15.2  999  NaN   99  99   \n",
       "2002-01-01 02:00:00  5.11  1.2  1010.9  999  6.25  15.8  999  NaN   99  99   \n",
       "2002-01-01 03:00:00  5.29  1.2  1010.9  999  6.67  16.7  999  NaN   99  99   \n",
       "2002-01-01 04:00:00  5.14  0.9  1010.9  999  5.88  15.2  999  NaN   99  99   \n",
       "\n",
       "                        WD WDIR  WSPD WTMP  WVHT   mm  \n",
       "datetime                                               \n",
       "2002-01-01 00:00:00  255.0  NaN  12.4  7.1  2.17  NaN  \n",
       "2002-01-01 01:00:00  257.0  NaN  12.3    7  2.07  NaN  \n",
       "2002-01-01 02:00:00  258.0  NaN  12.5    7  2.33  NaN  \n",
       "2002-01-01 03:00:00  257.0  NaN  13.2  7.1  2.53  NaN  \n",
       "2002-01-01 04:00:00  267.0  NaN  12.4  7.1  2.43  NaN  "
      ]
     },
     "execution_count": 3,
     "metadata": {},
     "output_type": "execute_result"
    }
   ],
   "source": [
    "dfWind.head()"
   ]
  },
  {
   "cell_type": "code",
   "execution_count": 4,
   "metadata": {
    "collapsed": true
   },
   "outputs": [],
   "source": [
    "dfWindSub = dfWind.loc[:,['WVHT', 'WTMP', 'WSPD','WD', 'WDIR']]"
   ]
  },
  {
   "cell_type": "code",
   "execution_count": 5,
   "metadata": {},
   "outputs": [
    {
     "name": "stdout",
     "output_type": "stream",
     "text": [
      "<class 'pandas.core.frame.DataFrame'>\n",
      "Index: 127662 entries, 2002-01-01 00:00:00 to 2001-12-31 23:00:00\n",
      "Data columns (total 5 columns):\n",
      "WVHT    127662 non-null object\n",
      "WTMP    127662 non-null object\n",
      "WSPD    127662 non-null object\n",
      "WD      58184 non-null float64\n",
      "WDIR    69478 non-null object\n",
      "dtypes: float64(1), object(4)\n",
      "memory usage: 5.8+ MB\n"
     ]
    }
   ],
   "source": [
    "dfWindSub.info()"
   ]
  },
  {
   "cell_type": "code",
   "execution_count": null,
   "metadata": {},
   "outputs": [],
   "source": [
    "# doesn't work: there's a 'degT string somewhere, probably sub-header of newer files.\n",
    "# also, there's a nan and '999' somewhere. What comes next cleans and \n",
    "# consolidates all wind direction data under a single column, \"WDIR\"\n",
    "dfWindSub['WDIR'] = dfWindSub.WDIR.astype('f8')"
   ]
  },
  {
   "cell_type": "code",
   "execution_count": 10,
   "metadata": {},
   "outputs": [
    {
     "data": {
      "text/html": [
       "<div>\n",
       "<style>\n",
       "    .dataframe thead tr:only-child th {\n",
       "        text-align: right;\n",
       "    }\n",
       "\n",
       "    .dataframe thead th {\n",
       "        text-align: left;\n",
       "    }\n",
       "\n",
       "    .dataframe tbody tr th {\n",
       "        vertical-align: top;\n",
       "    }\n",
       "</style>\n",
       "<table border=\"1\" class=\"dataframe\">\n",
       "  <thead>\n",
       "    <tr style=\"text-align: right;\">\n",
       "      <th></th>\n",
       "      <th>WVHT</th>\n",
       "      <th>WTMP</th>\n",
       "      <th>WSPD</th>\n",
       "      <th>WD</th>\n",
       "      <th>WDIR</th>\n",
       "    </tr>\n",
       "    <tr>\n",
       "      <th>datetime</th>\n",
       "      <th></th>\n",
       "      <th></th>\n",
       "      <th></th>\n",
       "      <th></th>\n",
       "      <th></th>\n",
       "    </tr>\n",
       "  </thead>\n",
       "  <tbody>\n",
       "    <tr>\n",
       "      <th>#yr mo dy hr</th>\n",
       "      <td>m</td>\n",
       "      <td>degC</td>\n",
       "      <td>m/s</td>\n",
       "      <td>NaN</td>\n",
       "      <td>degT</td>\n",
       "    </tr>\n",
       "    <tr>\n",
       "      <th>#yr mo dy hr</th>\n",
       "      <td>m</td>\n",
       "      <td>degC</td>\n",
       "      <td>m/s</td>\n",
       "      <td>NaN</td>\n",
       "      <td>degT</td>\n",
       "    </tr>\n",
       "    <tr>\n",
       "      <th>#yr mo dy hr</th>\n",
       "      <td>m</td>\n",
       "      <td>degC</td>\n",
       "      <td>m/s</td>\n",
       "      <td>NaN</td>\n",
       "      <td>degT</td>\n",
       "    </tr>\n",
       "    <tr>\n",
       "      <th>#yr mo dy hr</th>\n",
       "      <td>m</td>\n",
       "      <td>degC</td>\n",
       "      <td>m/s</td>\n",
       "      <td>NaN</td>\n",
       "      <td>degT</td>\n",
       "    </tr>\n",
       "    <tr>\n",
       "      <th>#yr mo dy hr</th>\n",
       "      <td>m</td>\n",
       "      <td>degC</td>\n",
       "      <td>m/s</td>\n",
       "      <td>NaN</td>\n",
       "      <td>degT</td>\n",
       "    </tr>\n",
       "    <tr>\n",
       "      <th>#yr mo dy hr</th>\n",
       "      <td>m</td>\n",
       "      <td>degC</td>\n",
       "      <td>m/s</td>\n",
       "      <td>NaN</td>\n",
       "      <td>degT</td>\n",
       "    </tr>\n",
       "    <tr>\n",
       "      <th>#yr mo dy hr</th>\n",
       "      <td>m</td>\n",
       "      <td>degC</td>\n",
       "      <td>m/s</td>\n",
       "      <td>NaN</td>\n",
       "      <td>degT</td>\n",
       "    </tr>\n",
       "    <tr>\n",
       "      <th>#yr mo dy hr</th>\n",
       "      <td>m</td>\n",
       "      <td>degC</td>\n",
       "      <td>m/s</td>\n",
       "      <td>NaN</td>\n",
       "      <td>degT</td>\n",
       "    </tr>\n",
       "    <tr>\n",
       "      <th>#yr mo dy hr</th>\n",
       "      <td>m</td>\n",
       "      <td>degC</td>\n",
       "      <td>m/s</td>\n",
       "      <td>NaN</td>\n",
       "      <td>degT</td>\n",
       "    </tr>\n",
       "  </tbody>\n",
       "</table>\n",
       "</div>"
      ],
      "text/plain": [
       "             WVHT  WTMP WSPD  WD  WDIR\n",
       "datetime                              \n",
       "#yr mo dy hr    m  degC  m/s NaN  degT\n",
       "#yr mo dy hr    m  degC  m/s NaN  degT\n",
       "#yr mo dy hr    m  degC  m/s NaN  degT\n",
       "#yr mo dy hr    m  degC  m/s NaN  degT\n",
       "#yr mo dy hr    m  degC  m/s NaN  degT\n",
       "#yr mo dy hr    m  degC  m/s NaN  degT\n",
       "#yr mo dy hr    m  degC  m/s NaN  degT\n",
       "#yr mo dy hr    m  degC  m/s NaN  degT\n",
       "#yr mo dy hr    m  degC  m/s NaN  degT"
      ]
     },
     "execution_count": 10,
     "metadata": {},
     "output_type": "execute_result"
    }
   ],
   "source": [
    "dfWindSub.loc[dfWindSub.WDIR=='degT', :]"
   ]
  },
  {
   "cell_type": "code",
   "execution_count": 11,
   "metadata": {},
   "outputs": [],
   "source": [
    "dfWindSub.drop(\"#yr mo dy hr\", inplace=True)"
   ]
  },
  {
   "cell_type": "code",
   "execution_count": 12,
   "metadata": {},
   "outputs": [
    {
     "name": "stdout",
     "output_type": "stream",
     "text": [
      "<class 'pandas.core.frame.DataFrame'>\n",
      "Index: 127653 entries, 2002-01-01 00:00:00 to 2001-12-31 23:00:00\n",
      "Data columns (total 5 columns):\n",
      "WVHT    127653 non-null object\n",
      "WTMP    127653 non-null object\n",
      "WSPD    127653 non-null object\n",
      "WD      58184 non-null float64\n",
      "WDIR    69469 non-null object\n",
      "dtypes: float64(1), object(4)\n",
      "memory usage: 5.8+ MB\n"
     ]
    }
   ],
   "source": [
    "dfWindSub.info()"
   ]
  },
  {
   "cell_type": "code",
   "execution_count": 14,
   "metadata": {},
   "outputs": [],
   "source": [
    "dfWindSub['WDIR'] = dfWindSub.WDIR.astype('f8')"
   ]
  },
  {
   "cell_type": "code",
   "execution_count": 19,
   "metadata": {},
   "outputs": [],
   "source": [
    "dfWindSub.replace(999, np.NaN, inplace=True)"
   ]
  },
  {
   "cell_type": "code",
   "execution_count": 20,
   "metadata": {},
   "outputs": [],
   "source": [
    "dfWindSub['WVHT'] = dfWindSub.WVHT.astype('f8')"
   ]
  },
  {
   "cell_type": "code",
   "execution_count": 21,
   "metadata": {
    "collapsed": true
   },
   "outputs": [],
   "source": [
    "dfWindSub['WTMP'] = dfWindSub.WTMP.astype('f8')"
   ]
  },
  {
   "cell_type": "code",
   "execution_count": 22,
   "metadata": {
    "collapsed": true
   },
   "outputs": [],
   "source": [
    "dfWindSub['WSPD'] = dfWindSub.WSPD.astype('f8')"
   ]
  },
  {
   "cell_type": "code",
   "execution_count": 25,
   "metadata": {},
   "outputs": [
    {
     "data": {
      "text/plain": [
       "WVHT     99.0\n",
       "WTMP    999.0\n",
       "WSPD     99.0\n",
       "WD      360.0\n",
       "WDIR    360.0\n",
       "dtype: float64"
      ]
     },
     "execution_count": 25,
     "metadata": {},
     "output_type": "execute_result"
    }
   ],
   "source": [
    "dfWindSub.max()"
   ]
  },
  {
   "cell_type": "code",
   "execution_count": 26,
   "metadata": {},
   "outputs": [],
   "source": [
    "dfWindSub.replace({'WVHT': {99.0: np.NaN}, 'WTMP': {999.0: np.NaN}, 'WSPD': {99.0: np.NaN}}, inplace=True)"
   ]
  },
  {
   "cell_type": "code",
   "execution_count": 28,
   "metadata": {},
   "outputs": [
    {
     "name": "stdout",
     "output_type": "stream",
     "text": [
      "<class 'pandas.core.frame.DataFrame'>\n",
      "Index: 127653 entries, 2002-01-01 00:00:00 to 2001-12-31 23:00:00\n",
      "Data columns (total 5 columns):\n",
      "WVHT    124887 non-null float64\n",
      "WTMP    124092 non-null float64\n",
      "WSPD    120296 non-null float64\n",
      "WD      53488 non-null float64\n",
      "WDIR    58124 non-null float64\n",
      "dtypes: float64(5)\n",
      "memory usage: 10.8+ MB\n"
     ]
    }
   ],
   "source": []
  },
  {
   "cell_type": "code",
   "execution_count": 33,
   "metadata": {},
   "outputs": [],
   "source": [
    "dfWindSub['WDIR'] = dfWindSub.WDIR.combine_first(dfWindSub.WD)"
   ]
  },
  {
   "cell_type": "code",
   "execution_count": 37,
   "metadata": {},
   "outputs": [],
   "source": [
    "dfWindSub.drop('WD', axis=1, inplace=True)"
   ]
  },
  {
   "cell_type": "code",
   "execution_count": 41,
   "metadata": {},
   "outputs": [],
   "source": [
    "dfWindSub.dropna(inplace=True)"
   ]
  },
  {
   "cell_type": "code",
   "execution_count": 42,
   "metadata": {},
   "outputs": [
    {
     "name": "stdout",
     "output_type": "stream",
     "text": [
      "<class 'pandas.core.frame.DataFrame'>\n",
      "Index: 108811 entries, 2002-01-01 00:00:00 to 2001-12-31 23:00:00\n",
      "Data columns (total 4 columns):\n",
      "WVHT    108811 non-null float64\n",
      "WTMP    108811 non-null float64\n",
      "WSPD    108811 non-null float64\n",
      "WDIR    108811 non-null float64\n",
      "dtypes: float64(4)\n",
      "memory usage: 4.2+ MB\n"
     ]
    }
   ],
   "source": [
    "dfWindSub.info()"
   ]
  },
  {
   "cell_type": "code",
   "execution_count": 43,
   "metadata": {},
   "outputs": [
    {
     "data": {
      "text/html": [
       "<div>\n",
       "<style>\n",
       "    .dataframe thead tr:only-child th {\n",
       "        text-align: right;\n",
       "    }\n",
       "\n",
       "    .dataframe thead th {\n",
       "        text-align: left;\n",
       "    }\n",
       "\n",
       "    .dataframe tbody tr th {\n",
       "        vertical-align: top;\n",
       "    }\n",
       "</style>\n",
       "<table border=\"1\" class=\"dataframe\">\n",
       "  <thead>\n",
       "    <tr style=\"text-align: right;\">\n",
       "      <th></th>\n",
       "      <th>WVHT</th>\n",
       "      <th>WTMP</th>\n",
       "      <th>WSPD</th>\n",
       "      <th>WDIR</th>\n",
       "    </tr>\n",
       "  </thead>\n",
       "  <tbody>\n",
       "    <tr>\n",
       "      <th>count</th>\n",
       "      <td>108811.000000</td>\n",
       "      <td>108811.000000</td>\n",
       "      <td>108811.000000</td>\n",
       "      <td>108811.000000</td>\n",
       "    </tr>\n",
       "    <tr>\n",
       "      <th>mean</th>\n",
       "      <td>1.478113</td>\n",
       "      <td>10.225508</td>\n",
       "      <td>6.696157</td>\n",
       "      <td>200.344882</td>\n",
       "    </tr>\n",
       "    <tr>\n",
       "      <th>std</th>\n",
       "      <td>0.927685</td>\n",
       "      <td>4.897427</td>\n",
       "      <td>3.638480</td>\n",
       "      <td>98.696574</td>\n",
       "    </tr>\n",
       "    <tr>\n",
       "      <th>min</th>\n",
       "      <td>0.000000</td>\n",
       "      <td>1.500000</td>\n",
       "      <td>0.000000</td>\n",
       "      <td>0.000000</td>\n",
       "    </tr>\n",
       "    <tr>\n",
       "      <th>25%</th>\n",
       "      <td>0.830000</td>\n",
       "      <td>5.900000</td>\n",
       "      <td>3.900000</td>\n",
       "      <td>133.000000</td>\n",
       "    </tr>\n",
       "    <tr>\n",
       "      <th>50%</th>\n",
       "      <td>1.220000</td>\n",
       "      <td>9.400000</td>\n",
       "      <td>6.200000</td>\n",
       "      <td>211.000000</td>\n",
       "    </tr>\n",
       "    <tr>\n",
       "      <th>75%</th>\n",
       "      <td>1.880000</td>\n",
       "      <td>13.900000</td>\n",
       "      <td>9.100000</td>\n",
       "      <td>279.000000</td>\n",
       "    </tr>\n",
       "    <tr>\n",
       "      <th>max</th>\n",
       "      <td>11.570000</td>\n",
       "      <td>28.300000</td>\n",
       "      <td>24.100000</td>\n",
       "      <td>360.000000</td>\n",
       "    </tr>\n",
       "  </tbody>\n",
       "</table>\n",
       "</div>"
      ],
      "text/plain": [
       "                WVHT           WTMP           WSPD           WDIR\n",
       "count  108811.000000  108811.000000  108811.000000  108811.000000\n",
       "mean        1.478113      10.225508       6.696157     200.344882\n",
       "std         0.927685       4.897427       3.638480      98.696574\n",
       "min         0.000000       1.500000       0.000000       0.000000\n",
       "25%         0.830000       5.900000       3.900000     133.000000\n",
       "50%         1.220000       9.400000       6.200000     211.000000\n",
       "75%         1.880000      13.900000       9.100000     279.000000\n",
       "max        11.570000      28.300000      24.100000     360.000000"
      ]
     },
     "execution_count": 43,
     "metadata": {},
     "output_type": "execute_result"
    }
   ],
   "source": [
    "dfWindSub.describe()"
   ]
  },
  {
   "cell_type": "code",
   "execution_count": 45,
   "metadata": {},
   "outputs": [],
   "source": [
    "dfWindSub.to_pickle('./dfCleanWind.pkl')"
   ]
  },
  {
   "cell_type": "code",
   "execution_count": null,
   "metadata": {
    "collapsed": true
   },
   "outputs": [],
   "source": []
  }
 ],
 "metadata": {
  "kernelspec": {
   "display_name": "Python [conda root]",
   "language": "python",
   "name": "conda-root-py"
  },
  "language_info": {
   "codemirror_mode": {
    "name": "ipython",
    "version": 3
   },
   "file_extension": ".py",
   "mimetype": "text/x-python",
   "name": "python",
   "nbconvert_exporter": "python",
   "pygments_lexer": "ipython3",
   "version": "3.5.3"
  }
 },
 "nbformat": 4,
 "nbformat_minor": 2
}
