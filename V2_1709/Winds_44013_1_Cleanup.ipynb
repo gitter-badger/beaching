{
 "cells": [
  {
   "cell_type": "code",
   "execution_count": 178,
   "metadata": {
    "collapsed": true
   },
   "outputs": [],
   "source": [
    "import pandas as pd\n",
    "import numpy as np\n",
    "from matplotlib import rcParams\n",
    "import seaborn as sb\n",
    "import os\n",
    "from tqdm import tqdm_notebook"
   ]
  },
  {
   "cell_type": "code",
   "execution_count": 2,
   "metadata": {
    "collapsed": true
   },
   "outputs": [],
   "source": [
    "%matplotlib inline"
   ]
  },
  {
   "cell_type": "code",
   "execution_count": 4,
   "metadata": {
    "collapsed": true
   },
   "outputs": [],
   "source": [
    "sb.reset_defaults()\n",
    "rcParams['xtick.labelsize'] = 14\n",
    "rcParams['ytick.labelsize'] = 14\n",
    "rcParams['font.size'] = 14\n",
    "rcParams['figure.figsize'] = (10, 5)\n",
    "rcParams['axes.formatter.limits'] = (-2, 3)"
   ]
  },
  {
   "cell_type": "code",
   "execution_count": 5,
   "metadata": {
    "collapsed": true
   },
   "outputs": [],
   "source": [
    "sb.set_style('darkgrid')"
   ]
  },
  {
   "cell_type": "code",
   "execution_count": 307,
   "metadata": {
    "collapsed": true
   },
   "outputs": [],
   "source": [
    "def Cleanup(dataframe):\n",
    "    dataframe.set_index('date', inplace=True)\n",
    "    dataframe.drop(['MWD', 'DEWP', 'VIS'], axis=1, inplace=True)\n",
    "    dataframe.loc[:,['WD', 'ATMP', 'WTMP']].replace('999.0', np.NaN, inplace=True)\n",
    "    dataframe.loc[dataframe.WD==999, 'WD'] = np.NaN\n",
    "    dataframe.loc[dataframe.WSPD==99, 'WSPD'] = np.NaN\n",
    "    dataframe.loc[dataframe.GST==99, 'GST'] = np.NaN\n",
    "    dataframe.loc[dataframe.WVHT==99, 'WVHT'] = np.NaN\n",
    "    dataframe.loc[dataframe.DPD==99, 'DPD'] = np.NaN\n",
    "    dataframe.loc[dataframe.APD==99, 'APD'] = np.NaN\n",
    "    if 'BAR' in dataframe.columns:\n",
    "        dataframe.loc[dataframe.BAR==9999, 'BAR'] = np.NaN\n",
    "    dataframe.loc[dataframe.ATMP==999, 'ATMP'] = np.NaN\n",
    "    dataframe.loc[dataframe.WTMP==999, 'WTMP'] = np.NaN\n",
    "    try:\n",
    "        dataframe.loc[dataframe.TIDE==99, 'TIDE'] = np.NaN\n",
    "        print('corrected TIDE')\n",
    "    except:\n",
    "        pass\n",
    "    #return dataframe\n",
    "\n",
    "def GetWindPersistence(dataframe):\n",
    "    dataframe['SoutherlyPersistence'] = np.cos(np.deg2rad(dataframe.WD)) * dataframe.WSPD\n",
    "    dataframe['EasterlyPersistence'] = np.sin(np.deg2rad(dataframe.WD)) * dataframe.WSPD\n",
    "    dataframe.dropna(subset=['WD', 'WSPD'], inplace=True)\n",
    "    #return dataframe\n",
    "\n",
    "def AggregateDF(dataframe):\n",
    "    dfMonthMean = dataframe.drop(['WD', 'WSPD'], axis=1).resample('M').mean()\n",
    "    dfMonthStd = dataframe.drop(['WD', 'WSPD'], axis=1).resample('M').std()\n",
    "    return dfMonthMean, dfMonthStd\n",
    "\n",
    "def RunPrep(frame):\n",
    "    frame = Cleanup(frame)\n",
    "    frame = GetWindPersistence(frame)"
   ]
  },
  {
   "cell_type": "code",
   "execution_count": 308,
   "metadata": {
    "collapsed": true
   },
   "outputs": [],
   "source": [
    "dataMain = '/home/madhatter106/DATA/Beaching_Project/CapeCodData/'\n",
    "pklDir = os.path.join(dataMain, 'PklJar')\n",
    "windDir = 'wind_44013/'\n",
    "fprfx = '44013_'\n",
    "years = [str(year) for year in range(1999, 2015)] # generator"
   ]
  },
  {
   "cell_type": "code",
   "execution_count": 323,
   "metadata": {
    "scrolled": false
   },
   "outputs": [
    {
     "name": "stdout",
     "output_type": "stream",
     "text": [
      "corrected TIDE\n",
      "corrected TIDE\n",
      "corrected TIDE\n",
      "corrected TIDE\n",
      "corrected TIDE\n",
      "corrected TIDE\n",
      "corrected TIDE\n",
      "corrected TIDE\n",
      "corrected TIDE\n",
      "corrected TIDE\n",
      "corrected TIDE\n",
      "corrected TIDE\n",
      "corrected TIDE\n",
      "corrected TIDE\n",
      "corrected TIDE\n"
     ]
    }
   ],
   "source": [
    "df = None\n",
    "dfUnits = None\n",
    "for yr in years: \n",
    "    fp = '%s%s%s.txt' %(os.path.join(dataMain, windDir), fprfx,yr)\n",
    "    dfyear = pd.read_csv(fp, delim_whitespace=True,\n",
    "                         parse_dates={'date':[0,1,2,3]}, infer_datetime_format=True)\n",
    "    if int(yr) >= 2007:\n",
    "        dfyear = dfyear.iloc[1:]\n",
    "        dfyear['date'] = pd.to_datetime(dfyear.date, infer_datetime_format=True)\n",
    "        dfyear.iloc[:,1:] = dfyear.iloc[:,1:].astype('f8')\n",
    "        dfyear.rename(columns={'WDIR': 'WD'}, inplace=True)\n",
    "    Cleanup(dfyear)\n",
    "    GetWindPersistence(dfyear)\n",
    "    df = pd.concat([df, dfyear])\n",
    "    del dfyear"
   ]
  },
  {
   "cell_type": "code",
   "execution_count": 326,
   "metadata": {},
   "outputs": [
    {
     "data": {
      "text/plain": [
       "50.0    54679\n",
       "0.0     24391\n",
       "Name: mm, dtype: int64"
      ]
     },
     "execution_count": 326,
     "metadata": {},
     "output_type": "execute_result"
    }
   ],
   "source": []
  },
  {
   "cell_type": "code",
   "execution_count": 325,
   "metadata": {},
   "outputs": [
    {
     "name": "stdout",
     "output_type": "stream",
     "text": [
      "<class 'pandas.core.frame.DataFrame'>\n",
      "DatetimeIndex: 128793 entries, 1999-01-01 00:00:00 to 2014-12-31 22:00:00\n",
      "Data columns (total 14 columns):\n",
      "APD                     127182 non-null float64\n",
      "ATMP                    128675 non-null float64\n",
      "BAR                     64653 non-null float64\n",
      "DPD                     125702 non-null float64\n",
      "EasterlyPersistence     128793 non-null float64\n",
      "GST                     128621 non-null float64\n",
      "PRES                    64081 non-null float64\n",
      "SoutherlyPersistence    128793 non-null float64\n",
      "TIDE                    0 non-null float64\n",
      "WD                      128793 non-null float64\n",
      "WSPD                    128793 non-null float64\n",
      "WTMP                    128442 non-null float64\n",
      "WVHT                    127182 non-null float64\n",
      "mm                      79070 non-null float64\n",
      "dtypes: float64(14)\n",
      "memory usage: 14.7 MB\n"
     ]
    }
   ],
   "source": [
    "df.info()"
   ]
  },
  {
   "cell_type": "code",
   "execution_count": 327,
   "metadata": {},
   "outputs": [
    {
     "data": {
      "text/html": [
       "<div>\n",
       "<style>\n",
       "    .dataframe thead tr:only-child th {\n",
       "        text-align: right;\n",
       "    }\n",
       "\n",
       "    .dataframe thead th {\n",
       "        text-align: left;\n",
       "    }\n",
       "\n",
       "    .dataframe tbody tr th {\n",
       "        vertical-align: top;\n",
       "    }\n",
       "</style>\n",
       "<table border=\"1\" class=\"dataframe\">\n",
       "  <thead>\n",
       "    <tr style=\"text-align: right;\">\n",
       "      <th></th>\n",
       "      <th>APD</th>\n",
       "      <th>ATMP</th>\n",
       "      <th>BAR</th>\n",
       "      <th>DPD</th>\n",
       "      <th>EasterlyPersistence</th>\n",
       "      <th>GST</th>\n",
       "      <th>PRES</th>\n",
       "      <th>SoutherlyPersistence</th>\n",
       "      <th>TIDE</th>\n",
       "      <th>WD</th>\n",
       "      <th>WSPD</th>\n",
       "      <th>WTMP</th>\n",
       "      <th>WVHT</th>\n",
       "      <th>mm</th>\n",
       "    </tr>\n",
       "    <tr>\n",
       "      <th>date</th>\n",
       "      <th></th>\n",
       "      <th></th>\n",
       "      <th></th>\n",
       "      <th></th>\n",
       "      <th></th>\n",
       "      <th></th>\n",
       "      <th></th>\n",
       "      <th></th>\n",
       "      <th></th>\n",
       "      <th></th>\n",
       "      <th></th>\n",
       "      <th></th>\n",
       "      <th></th>\n",
       "      <th></th>\n",
       "    </tr>\n",
       "  </thead>\n",
       "  <tbody>\n",
       "    <tr>\n",
       "      <th>1999-01-01 00:00:00</th>\n",
       "      <td>5.25</td>\n",
       "      <td>-4.3</td>\n",
       "      <td>1017.4</td>\n",
       "      <td>11.11</td>\n",
       "      <td>-3.542719</td>\n",
       "      <td>7.2</td>\n",
       "      <td>NaN</td>\n",
       "      <td>-4.075432</td>\n",
       "      <td>NaN</td>\n",
       "      <td>221.0</td>\n",
       "      <td>5.4</td>\n",
       "      <td>5.6</td>\n",
       "      <td>0.33</td>\n",
       "      <td>NaN</td>\n",
       "    </tr>\n",
       "    <tr>\n",
       "      <th>1999-01-01 01:00:00</th>\n",
       "      <td>5.51</td>\n",
       "      <td>-4.0</td>\n",
       "      <td>1016.5</td>\n",
       "      <td>11.11</td>\n",
       "      <td>-3.447704</td>\n",
       "      <td>7.3</td>\n",
       "      <td>NaN</td>\n",
       "      <td>-4.412860</td>\n",
       "      <td>NaN</td>\n",
       "      <td>218.0</td>\n",
       "      <td>5.6</td>\n",
       "      <td>5.7</td>\n",
       "      <td>0.31</td>\n",
       "      <td>NaN</td>\n",
       "    </tr>\n",
       "    <tr>\n",
       "      <th>1999-01-01 02:00:00</th>\n",
       "      <td>6.53</td>\n",
       "      <td>-3.9</td>\n",
       "      <td>1015.8</td>\n",
       "      <td>12.50</td>\n",
       "      <td>-4.100237</td>\n",
       "      <td>7.0</td>\n",
       "      <td>NaN</td>\n",
       "      <td>-3.959553</td>\n",
       "      <td>NaN</td>\n",
       "      <td>226.0</td>\n",
       "      <td>5.7</td>\n",
       "      <td>5.7</td>\n",
       "      <td>0.32</td>\n",
       "      <td>NaN</td>\n",
       "    </tr>\n",
       "    <tr>\n",
       "      <th>1999-01-01 03:00:00</th>\n",
       "      <td>6.17</td>\n",
       "      <td>-3.9</td>\n",
       "      <td>1015.3</td>\n",
       "      <td>11.11</td>\n",
       "      <td>-4.235926</td>\n",
       "      <td>7.3</td>\n",
       "      <td>NaN</td>\n",
       "      <td>-3.814044</td>\n",
       "      <td>NaN</td>\n",
       "      <td>228.0</td>\n",
       "      <td>5.7</td>\n",
       "      <td>5.7</td>\n",
       "      <td>0.31</td>\n",
       "      <td>NaN</td>\n",
       "    </tr>\n",
       "    <tr>\n",
       "      <th>1999-01-01 04:00:00</th>\n",
       "      <td>5.02</td>\n",
       "      <td>-3.8</td>\n",
       "      <td>1015.0</td>\n",
       "      <td>11.11</td>\n",
       "      <td>-4.948156</td>\n",
       "      <td>7.7</td>\n",
       "      <td>NaN</td>\n",
       "      <td>-3.213370</td>\n",
       "      <td>NaN</td>\n",
       "      <td>237.0</td>\n",
       "      <td>5.9</td>\n",
       "      <td>5.6</td>\n",
       "      <td>0.39</td>\n",
       "      <td>NaN</td>\n",
       "    </tr>\n",
       "  </tbody>\n",
       "</table>\n",
       "</div>"
      ],
      "text/plain": [
       "                      APD  ATMP     BAR    DPD  EasterlyPersistence  GST  \\\n",
       "date                                                                       \n",
       "1999-01-01 00:00:00  5.25  -4.3  1017.4  11.11            -3.542719  7.2   \n",
       "1999-01-01 01:00:00  5.51  -4.0  1016.5  11.11            -3.447704  7.3   \n",
       "1999-01-01 02:00:00  6.53  -3.9  1015.8  12.50            -4.100237  7.0   \n",
       "1999-01-01 03:00:00  6.17  -3.9  1015.3  11.11            -4.235926  7.3   \n",
       "1999-01-01 04:00:00  5.02  -3.8  1015.0  11.11            -4.948156  7.7   \n",
       "\n",
       "                     PRES  SoutherlyPersistence  TIDE     WD  WSPD  WTMP  \\\n",
       "date                                                                       \n",
       "1999-01-01 00:00:00   NaN             -4.075432   NaN  221.0   5.4   5.6   \n",
       "1999-01-01 01:00:00   NaN             -4.412860   NaN  218.0   5.6   5.7   \n",
       "1999-01-01 02:00:00   NaN             -3.959553   NaN  226.0   5.7   5.7   \n",
       "1999-01-01 03:00:00   NaN             -3.814044   NaN  228.0   5.7   5.7   \n",
       "1999-01-01 04:00:00   NaN             -3.213370   NaN  237.0   5.9   5.6   \n",
       "\n",
       "                     WVHT  mm  \n",
       "date                           \n",
       "1999-01-01 00:00:00  0.33 NaN  \n",
       "1999-01-01 01:00:00  0.31 NaN  \n",
       "1999-01-01 02:00:00  0.32 NaN  \n",
       "1999-01-01 03:00:00  0.31 NaN  \n",
       "1999-01-01 04:00:00  0.39 NaN  "
      ]
     },
     "execution_count": 327,
     "metadata": {},
     "output_type": "execute_result"
    }
   ],
   "source": [
    "df.head()"
   ]
  },
  {
   "cell_type": "code",
   "execution_count": 328,
   "metadata": {},
   "outputs": [],
   "source": [
    "df.drop(['mm', 'TIDE', 'PRES'], axis=1, inplace=True)"
   ]
  },
  {
   "cell_type": "code",
   "execution_count": 329,
   "metadata": {
    "collapsed": true
   },
   "outputs": [],
   "source": [
    "df.to_pickle(os.path.join(pklDir,'dfAgg.pkl'))"
   ]
  },
  {
   "cell_type": "code",
   "execution_count": 337,
   "metadata": {
    "collapsed": true
   },
   "outputs": [],
   "source": [
    "dfVars = ['EasterlyPersistence', 'SoutherlyPersistence', 'WTMP', 'WVHT']"
   ]
  },
  {
   "cell_type": "code",
   "execution_count": 334,
   "metadata": {
    "collapsed": true
   },
   "outputs": [],
   "source": [
    "dfMonthlyMean = df[dfVars].resample('M').mean()"
   ]
  },
  {
   "cell_type": "code",
   "execution_count": 335,
   "metadata": {
    "collapsed": true
   },
   "outputs": [],
   "source": [
    "dfMonthlyStd = df[dfVars].resample('M').std()"
   ]
  },
  {
   "cell_type": "code",
   "execution_count": 336,
   "metadata": {},
   "outputs": [
    {
     "data": {
      "text/html": [
       "<div>\n",
       "<style>\n",
       "    .dataframe thead tr:only-child th {\n",
       "        text-align: right;\n",
       "    }\n",
       "\n",
       "    .dataframe thead th {\n",
       "        text-align: left;\n",
       "    }\n",
       "\n",
       "    .dataframe tbody tr th {\n",
       "        vertical-align: top;\n",
       "    }\n",
       "</style>\n",
       "<table border=\"1\" class=\"dataframe\">\n",
       "  <thead>\n",
       "    <tr style=\"text-align: right;\">\n",
       "      <th></th>\n",
       "      <th>EasterlyPersistence</th>\n",
       "      <th>SoutherlyPersistence</th>\n",
       "      <th>WTMP</th>\n",
       "      <th>WVHT</th>\n",
       "    </tr>\n",
       "    <tr>\n",
       "      <th>date</th>\n",
       "      <th></th>\n",
       "      <th></th>\n",
       "      <th></th>\n",
       "      <th></th>\n",
       "    </tr>\n",
       "  </thead>\n",
       "  <tbody>\n",
       "    <tr>\n",
       "      <th>1999-01-31</th>\n",
       "      <td>-2.412786</td>\n",
       "      <td>-0.296956</td>\n",
       "      <td>3.994452</td>\n",
       "      <td>1.100014</td>\n",
       "    </tr>\n",
       "    <tr>\n",
       "      <th>1999-02-28</th>\n",
       "      <td>-2.006042</td>\n",
       "      <td>2.114959</td>\n",
       "      <td>2.931061</td>\n",
       "      <td>1.263561</td>\n",
       "    </tr>\n",
       "    <tr>\n",
       "      <th>1999-03-31</th>\n",
       "      <td>-2.582759</td>\n",
       "      <td>1.144871</td>\n",
       "      <td>2.608287</td>\n",
       "      <td>1.332430</td>\n",
       "    </tr>\n",
       "    <tr>\n",
       "      <th>1999-04-30</th>\n",
       "      <td>-1.331365</td>\n",
       "      <td>1.005358</td>\n",
       "      <td>5.605139</td>\n",
       "      <td>0.669292</td>\n",
       "    </tr>\n",
       "    <tr>\n",
       "      <th>1999-05-31</th>\n",
       "      <td>0.807158</td>\n",
       "      <td>0.033573</td>\n",
       "      <td>10.294332</td>\n",
       "      <td>0.608970</td>\n",
       "    </tr>\n",
       "  </tbody>\n",
       "</table>\n",
       "</div>"
      ],
      "text/plain": [
       "            EasterlyPersistence  SoutherlyPersistence       WTMP      WVHT\n",
       "date                                                                      \n",
       "1999-01-31            -2.412786             -0.296956   3.994452  1.100014\n",
       "1999-02-28            -2.006042              2.114959   2.931061  1.263561\n",
       "1999-03-31            -2.582759              1.144871   2.608287  1.332430\n",
       "1999-04-30            -1.331365              1.005358   5.605139  0.669292\n",
       "1999-05-31             0.807158              0.033573  10.294332  0.608970"
      ]
     },
     "execution_count": 336,
     "metadata": {},
     "output_type": "execute_result"
    }
   ],
   "source": [
    "dfMonthlyMean.head()"
   ]
  },
  {
   "cell_type": "code",
   "execution_count": 372,
   "metadata": {},
   "outputs": [
    {
     "data": {
      "text/html": [
       "<div>\n",
       "<style>\n",
       "    .dataframe thead tr:only-child th {\n",
       "        text-align: right;\n",
       "    }\n",
       "\n",
       "    .dataframe thead th {\n",
       "        text-align: left;\n",
       "    }\n",
       "\n",
       "    .dataframe tbody tr th {\n",
       "        vertical-align: top;\n",
       "    }\n",
       "</style>\n",
       "<table border=\"1\" class=\"dataframe\">\n",
       "  <thead>\n",
       "    <tr style=\"text-align: right;\">\n",
       "      <th></th>\n",
       "      <th>EasterlyPersistence</th>\n",
       "      <th>SoutherlyPersistence</th>\n",
       "      <th>WTMP</th>\n",
       "      <th>WVHT</th>\n",
       "    </tr>\n",
       "    <tr>\n",
       "      <th>date</th>\n",
       "      <th></th>\n",
       "      <th></th>\n",
       "      <th></th>\n",
       "      <th></th>\n",
       "    </tr>\n",
       "  </thead>\n",
       "  <tbody>\n",
       "    <tr>\n",
       "      <th>1</th>\n",
       "      <td>-4.064440</td>\n",
       "      <td>1.355612</td>\n",
       "      <td>4.897222</td>\n",
       "      <td>1.096931</td>\n",
       "    </tr>\n",
       "    <tr>\n",
       "      <th>2</th>\n",
       "      <td>-3.350717</td>\n",
       "      <td>1.404965</td>\n",
       "      <td>3.337487</td>\n",
       "      <td>1.150160</td>\n",
       "    </tr>\n",
       "    <tr>\n",
       "      <th>3</th>\n",
       "      <td>-1.505370</td>\n",
       "      <td>1.269199</td>\n",
       "      <td>3.451145</td>\n",
       "      <td>1.212966</td>\n",
       "    </tr>\n",
       "    <tr>\n",
       "      <th>4</th>\n",
       "      <td>-0.208256</td>\n",
       "      <td>0.218970</td>\n",
       "      <td>5.834349</td>\n",
       "      <td>1.007061</td>\n",
       "    </tr>\n",
       "    <tr>\n",
       "      <th>5</th>\n",
       "      <td>0.222151</td>\n",
       "      <td>-0.037460</td>\n",
       "      <td>9.930629</td>\n",
       "      <td>0.795442</td>\n",
       "    </tr>\n",
       "    <tr>\n",
       "      <th>6</th>\n",
       "      <td>-0.008352</td>\n",
       "      <td>-0.526092</td>\n",
       "      <td>14.783339</td>\n",
       "      <td>0.614636</td>\n",
       "    </tr>\n",
       "    <tr>\n",
       "      <th>7</th>\n",
       "      <td>-0.286936</td>\n",
       "      <td>-1.184806</td>\n",
       "      <td>18.320355</td>\n",
       "      <td>0.505510</td>\n",
       "    </tr>\n",
       "    <tr>\n",
       "      <th>8</th>\n",
       "      <td>-0.177380</td>\n",
       "      <td>-0.868926</td>\n",
       "      <td>18.927826</td>\n",
       "      <td>0.543007</td>\n",
       "    </tr>\n",
       "    <tr>\n",
       "      <th>9</th>\n",
       "      <td>-0.161080</td>\n",
       "      <td>-0.288210</td>\n",
       "      <td>16.978047</td>\n",
       "      <td>0.737372</td>\n",
       "    </tr>\n",
       "    <tr>\n",
       "      <th>10</th>\n",
       "      <td>-1.293812</td>\n",
       "      <td>0.642169</td>\n",
       "      <td>13.438311</td>\n",
       "      <td>0.998127</td>\n",
       "    </tr>\n",
       "    <tr>\n",
       "      <th>11</th>\n",
       "      <td>-2.186922</td>\n",
       "      <td>0.907257</td>\n",
       "      <td>10.116579</td>\n",
       "      <td>1.089104</td>\n",
       "    </tr>\n",
       "    <tr>\n",
       "      <th>12</th>\n",
       "      <td>-3.331082</td>\n",
       "      <td>1.088715</td>\n",
       "      <td>7.402511</td>\n",
       "      <td>1.171073</td>\n",
       "    </tr>\n",
       "  </tbody>\n",
       "</table>\n",
       "</div>"
      ],
      "text/plain": [
       "      EasterlyPersistence  SoutherlyPersistence       WTMP      WVHT\n",
       "date                                                                \n",
       "1               -4.064440              1.355612   4.897222  1.096931\n",
       "2               -3.350717              1.404965   3.337487  1.150160\n",
       "3               -1.505370              1.269199   3.451145  1.212966\n",
       "4               -0.208256              0.218970   5.834349  1.007061\n",
       "5                0.222151             -0.037460   9.930629  0.795442\n",
       "6               -0.008352             -0.526092  14.783339  0.614636\n",
       "7               -0.286936             -1.184806  18.320355  0.505510\n",
       "8               -0.177380             -0.868926  18.927826  0.543007\n",
       "9               -0.161080             -0.288210  16.978047  0.737372\n",
       "10              -1.293812              0.642169  13.438311  0.998127\n",
       "11              -2.186922              0.907257  10.116579  1.089104\n",
       "12              -3.331082              1.088715   7.402511  1.171073"
      ]
     },
     "execution_count": 372,
     "metadata": {},
     "output_type": "execute_result"
    }
   ],
   "source": [
    "indexbymonth = df[dfVars].groupby(df.index.month).mean()\n",
    "indexbymonth"
   ]
  },
  {
   "cell_type": "code",
   "execution_count": 361,
   "metadata": {},
   "outputs": [],
   "source": [
    "dfMonthlyIndex = pd.DataFrame(index=dfMonthlyMean.index, columns=dfMonthlyMean.columns, dtype='f8')\n",
    "for i in indexbymonth.index:\n",
    "    dfMonthlyIndex.loc[dfMonthlyMean.index.month==i] = dfMonthlyMean.loc[dfMonthlyMean.index.month==i].subtract(indexbymonth.loc[i])"
   ]
  },
  {
   "cell_type": "code",
   "execution_count": 362,
   "metadata": {},
   "outputs": [
    {
     "data": {
      "text/html": [
       "<div>\n",
       "<style>\n",
       "    .dataframe thead tr:only-child th {\n",
       "        text-align: right;\n",
       "    }\n",
       "\n",
       "    .dataframe thead th {\n",
       "        text-align: left;\n",
       "    }\n",
       "\n",
       "    .dataframe tbody tr th {\n",
       "        vertical-align: top;\n",
       "    }\n",
       "</style>\n",
       "<table border=\"1\" class=\"dataframe\">\n",
       "  <thead>\n",
       "    <tr style=\"text-align: right;\">\n",
       "      <th></th>\n",
       "      <th>EasterlyPersistence</th>\n",
       "      <th>SoutherlyPersistence</th>\n",
       "      <th>WTMP</th>\n",
       "      <th>WVHT</th>\n",
       "    </tr>\n",
       "    <tr>\n",
       "      <th>date</th>\n",
       "      <th></th>\n",
       "      <th></th>\n",
       "      <th></th>\n",
       "      <th></th>\n",
       "    </tr>\n",
       "  </thead>\n",
       "  <tbody>\n",
       "    <tr>\n",
       "      <th>1999-01-31</th>\n",
       "      <td>1.651654</td>\n",
       "      <td>-1.652568</td>\n",
       "      <td>-0.902770</td>\n",
       "      <td>0.003083</td>\n",
       "    </tr>\n",
       "    <tr>\n",
       "      <th>1999-02-28</th>\n",
       "      <td>1.344675</td>\n",
       "      <td>0.709994</td>\n",
       "      <td>-0.406426</td>\n",
       "      <td>0.113401</td>\n",
       "    </tr>\n",
       "    <tr>\n",
       "      <th>1999-03-31</th>\n",
       "      <td>-1.077389</td>\n",
       "      <td>-0.124328</td>\n",
       "      <td>-0.842859</td>\n",
       "      <td>0.119464</td>\n",
       "    </tr>\n",
       "    <tr>\n",
       "      <th>1999-04-30</th>\n",
       "      <td>-1.123109</td>\n",
       "      <td>0.786388</td>\n",
       "      <td>-0.229210</td>\n",
       "      <td>-0.337769</td>\n",
       "    </tr>\n",
       "    <tr>\n",
       "      <th>1999-05-31</th>\n",
       "      <td>0.585007</td>\n",
       "      <td>0.071033</td>\n",
       "      <td>0.363703</td>\n",
       "      <td>-0.186472</td>\n",
       "    </tr>\n",
       "  </tbody>\n",
       "</table>\n",
       "</div>"
      ],
      "text/plain": [
       "            EasterlyPersistence  SoutherlyPersistence      WTMP      WVHT\n",
       "date                                                                     \n",
       "1999-01-31             1.651654             -1.652568 -0.902770  0.003083\n",
       "1999-02-28             1.344675              0.709994 -0.406426  0.113401\n",
       "1999-03-31            -1.077389             -0.124328 -0.842859  0.119464\n",
       "1999-04-30            -1.123109              0.786388 -0.229210 -0.337769\n",
       "1999-05-31             0.585007              0.071033  0.363703 -0.186472"
      ]
     },
     "execution_count": 362,
     "metadata": {},
     "output_type": "execute_result"
    }
   ],
   "source": [
    "dfMonthlyIndex.head()"
   ]
  },
  {
   "cell_type": "code",
   "execution_count": 363,
   "metadata": {},
   "outputs": [
    {
     "name": "stdout",
     "output_type": "stream",
     "text": [
      "<class 'pandas.core.frame.DataFrame'>\n",
      "DatetimeIndex: 192 entries, 1999-01-31 to 2014-12-31\n",
      "Freq: M\n",
      "Data columns (total 4 columns):\n",
      "EasterlyPersistence     183 non-null float64\n",
      "SoutherlyPersistence    183 non-null float64\n",
      "WTMP                    183 non-null float64\n",
      "WVHT                    183 non-null float64\n",
      "dtypes: float64(4)\n",
      "memory usage: 12.5 KB\n"
     ]
    }
   ],
   "source": [
    "dfMonthlyIndex.info()"
   ]
  },
  {
   "cell_type": "code",
   "execution_count": 373,
   "metadata": {},
   "outputs": [
    {
     "name": "stdout",
     "output_type": "stream",
     "text": [
      "test passed\n"
     ]
    }
   ],
   "source": [
    "for i in range(dfMonthlyIndex.shape[0]):\n",
    "    np.testing.assert_array_equal(dfMonthlyIndex.iloc[i].values,\n",
    "                                  (dfMonthlyMean.iloc[i] - indexbymonth.iloc[i%12]).values)\n",
    "print(\"test passed\")"
   ]
  },
  {
   "cell_type": "code",
   "execution_count": 374,
   "metadata": {
    "collapsed": true
   },
   "outputs": [],
   "source": [
    "dfMonthlyIndex.to_pickle(os.path.join(pklDir, 'dfMonthlyIndex.pkl'))"
   ]
  },
  {
   "cell_type": "code",
   "execution_count": null,
   "metadata": {
    "collapsed": true
   },
   "outputs": [],
   "source": []
  }
 ],
 "metadata": {
  "kernelspec": {
   "display_name": "Python [conda root]",
   "language": "python",
   "name": "conda-root-py"
  },
  "language_info": {
   "codemirror_mode": {
    "name": "ipython",
    "version": 3
   },
   "file_extension": ".py",
   "mimetype": "text/x-python",
   "name": "python",
   "nbconvert_exporter": "python",
   "pygments_lexer": "ipython3",
   "version": "3.5.3"
  }
 },
 "nbformat": 4,
 "nbformat_minor": 2
}
