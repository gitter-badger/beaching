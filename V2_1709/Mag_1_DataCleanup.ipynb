{
 "cells": [
  {
   "cell_type": "code",
   "execution_count": 1,
   "metadata": {
    "collapsed": true
   },
   "outputs": [],
   "source": [
    "import pandas as pd\n",
    "import numpy as np\n",
    "import os\n",
    "import glob\n",
    "from dask import dataframe as dd"
   ]
  },
  {
   "cell_type": "code",
   "execution_count": 2,
   "metadata": {},
   "outputs": [],
   "source": [
    "datadir = '/home/madhatter106/DATA/Beaching_Project/CapeCodData/'\n",
    "magdir = os.path.join(datadir, 'Mag/')\n",
    "pkldir = os.path.join(datadir, 'PklJar/')\n",
    "dataFRD = os.path.join(magdir, 'frd')\n",
    "dataOTT = os.path.join(magdir, 'ott') "
   ]
  },
  {
   "cell_type": "code",
   "execution_count": 8,
   "metadata": {},
   "outputs": [],
   "source": [
    "def ParseTxtFile(fp):\n",
    "    try:\n",
    "        df = pd.read_csv(fp, skiprows=12, delim_whitespace=True, parse_dates=[[0, 1]], index_col=0 )\n",
    "    except Exception:\n",
    "        try:\n",
    "            df = pd.read_csv(fp, skiprows=24, delim_whitespace=True, parse_dates=[[0, 1]], index_col=0)\n",
    "        except Exception:\n",
    "            try:\n",
    "                df = pd.read_csv(fp, skiprows=25, delim_whitespace=True, parse_dates=[[0, 1]], index_col=0)\n",
    "            except Exception:\n",
    "                print(\"file %s failed\" % fp, flush=True)\n",
    "                return None\n",
    "    finally:\n",
    "        return df.resample('H').mean()\n",
    "    \n",
    "def MakeDF(year, dirpath, returnDF=False):\n",
    "    print(\"parsing %d\" % (year))\n",
    "    fileGen = glob.iglob(os.path.join(dirpath, '%d/*' % year))\n",
    "    dataList = [ParseTxtFile(file) for file in fileGen]\n",
    "    df = pd.concat(dataList)\n",
    "    df.to_pickle(os.path.join(pkldir, 'dfMag_%s_%d.pkl' %(dirpath.split('/')[-1],year)))\n",
    "    if returnDF:\n",
    "        return df\n",
    "    else:\n",
    "        del df\n",
    "        return None"
   ]
  },
  {
   "cell_type": "code",
   "execution_count": 6,
   "metadata": {},
   "outputs": [],
   "source": [
    "dp = dataFRD"
   ]
  },
  {
   "cell_type": "code",
   "execution_count": 7,
   "metadata": {},
   "outputs": [
    {
     "name": "stdout",
     "output_type": "stream",
     "text": [
      "parsing 1999\n",
      "parsing 2000\n",
      "parsing 2001\n",
      "parsing 2002\n",
      "parsing 2003\n",
      "parsing 2004\n",
      "parsing 2005\n",
      "parsing 2006\n",
      "parsing 2007\n",
      "parsing 2008\n",
      "parsing 2009\n",
      "parsing 2010\n",
      "parsing 2011\n",
      "parsing 2012\n",
      "parsing 2013\n",
      "parsing 2014\n"
     ]
    }
   ],
   "source": [
    "for year in range(1999, 2015):\n",
    "    MakeDF(year, dp)"
   ]
  },
  {
   "cell_type": "code",
   "execution_count": null,
   "metadata": {
    "collapsed": true
   },
   "outputs": [],
   "source": []
  }
 ],
 "metadata": {
  "kernelspec": {
   "display_name": "Python [conda root]",
   "language": "python",
   "name": "conda-root-py"
  },
  "language_info": {
   "codemirror_mode": {
    "name": "ipython",
    "version": 3
   },
   "file_extension": ".py",
   "mimetype": "text/x-python",
   "name": "python",
   "nbconvert_exporter": "python",
   "pygments_lexer": "ipython3",
   "version": "3.5.4"
  }
 },
 "nbformat": 4,
 "nbformat_minor": 2
}
