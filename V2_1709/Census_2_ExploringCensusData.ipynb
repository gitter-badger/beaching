{
 "cells": [
  {
   "cell_type": "markdown",
   "metadata": {},
   "source": [
    "Previously, I extracted data t.hat overlapped both temporally and (approximately) spatially the stranding data. This notebook documents a more in-depth exploration"
   ]
  },
  {
   "cell_type": "code",
   "execution_count": 50,
   "metadata": {
    "collapsed": true
   },
   "outputs": [],
   "source": [
    "import pandas as pd\n",
    "import numpy as np\n",
    "import matplotlib.pyplot as pl\n",
    "import seaborn as sb\n",
    "import os\n",
    "from matplotlib import rcParams"
   ]
  },
  {
   "cell_type": "code",
   "execution_count": 81,
   "metadata": {},
   "outputs": [],
   "source": [
    "sb.reset_defaults()\n",
    "rcParams['font.size'] = 16\n",
    "rcParams['axes.formatter.limits'] = (-2,4)\n",
    "rcParams['xtick.labelsize'] = 16\n",
    "rcParams['ytick.labelsize'] = 16\n",
    "rcParams['figure.figsize'] = (10,5)\n",
    "sb.set_style('darkgrid')"
   ]
  },
  {
   "cell_type": "code",
   "execution_count": 2,
   "metadata": {},
   "outputs": [],
   "source": [
    "%matplotlib inline"
   ]
  },
  {
   "cell_type": "code",
   "execution_count": 3,
   "metadata": {
    "collapsed": true
   },
   "outputs": [],
   "source": [
    "dataMain = '/home/madhatter106/DATA/Beaching_Project/CapeCodData/PklJar/'"
   ]
  },
  {
   "cell_type": "code",
   "execution_count": 22,
   "metadata": {
    "collapsed": true
   },
   "outputs": [],
   "source": [
    "fp = os.path.join(dataMain, 'dfCensusCapeCodLagenorhyncus.pkl')"
   ]
  },
  {
   "cell_type": "code",
   "execution_count": 4,
   "metadata": {
    "collapsed": true
   },
   "outputs": [],
   "source": [
    "dfcens = pd.read_pickle(fp)"
   ]
  },
  {
   "cell_type": "code",
   "execution_count": 5,
   "metadata": {},
   "outputs": [
    {
     "name": "stdout",
     "output_type": "stream",
     "text": [
      "<class 'pandas.core.frame.DataFrame'>\n",
      "Int64Index: 1056 entries, 1 to 6899\n",
      "Data columns (total 7 columns):\n",
      "row_id        1056 non-null object\n",
      "scientific    1056 non-null object\n",
      "common        1056 non-null object\n",
      "latitude      1056 non-null float64\n",
      "longitude     1056 non-null float64\n",
      "date_time     1056 non-null datetime64[ns]\n",
      "count         1056 non-null float64\n",
      "dtypes: datetime64[ns](1), float64(3), object(3)\n",
      "memory usage: 66.0+ KB\n"
     ]
    }
   ],
   "source": [
    "dfcens.info()"
   ]
  },
  {
   "cell_type": "code",
   "execution_count": 6,
   "metadata": {},
   "outputs": [
    {
     "data": {
      "text/html": [
       "<div>\n",
       "<style>\n",
       "    .dataframe thead tr:only-child th {\n",
       "        text-align: right;\n",
       "    }\n",
       "\n",
       "    .dataframe thead th {\n",
       "        text-align: left;\n",
       "    }\n",
       "\n",
       "    .dataframe tbody tr th {\n",
       "        vertical-align: top;\n",
       "    }\n",
       "</style>\n",
       "<table border=\"1\" class=\"dataframe\">\n",
       "  <thead>\n",
       "    <tr style=\"text-align: right;\">\n",
       "      <th></th>\n",
       "      <th>row_id</th>\n",
       "      <th>scientific</th>\n",
       "      <th>common</th>\n",
       "      <th>latitude</th>\n",
       "      <th>longitude</th>\n",
       "      <th>date_time</th>\n",
       "      <th>count</th>\n",
       "    </tr>\n",
       "  </thead>\n",
       "  <tbody>\n",
       "    <tr>\n",
       "      <th>1</th>\n",
       "      <td>513_10705</td>\n",
       "      <td>Lagenorhynchus acutus</td>\n",
       "      <td>Atlantic White-sided Dolphin</td>\n",
       "      <td>41.534278</td>\n",
       "      <td>-69.658585</td>\n",
       "      <td>2003-06-28 17:54:11</td>\n",
       "      <td>12.0</td>\n",
       "    </tr>\n",
       "    <tr>\n",
       "      <th>2</th>\n",
       "      <td>513_10174</td>\n",
       "      <td>Lagenorhynchus acutus</td>\n",
       "      <td>Atlantic White-sided Dolphin</td>\n",
       "      <td>42.791179</td>\n",
       "      <td>-69.262154</td>\n",
       "      <td>2003-06-24 17:04:46</td>\n",
       "      <td>20.0</td>\n",
       "    </tr>\n",
       "    <tr>\n",
       "      <th>3</th>\n",
       "      <td>513_58345</td>\n",
       "      <td>Lagenorhynchus acutus</td>\n",
       "      <td>Atlantic White-sided Dolphin</td>\n",
       "      <td>42.882440</td>\n",
       "      <td>-70.132550</td>\n",
       "      <td>2012-07-17 13:38:45</td>\n",
       "      <td>4.0</td>\n",
       "    </tr>\n",
       "    <tr>\n",
       "      <th>4</th>\n",
       "      <td>513_8875</td>\n",
       "      <td>Lagenorhynchus acutus</td>\n",
       "      <td>Atlantic White-sided Dolphin</td>\n",
       "      <td>42.153778</td>\n",
       "      <td>-70.053111</td>\n",
       "      <td>2003-05-15 10:27:09</td>\n",
       "      <td>50.0</td>\n",
       "    </tr>\n",
       "    <tr>\n",
       "      <th>5</th>\n",
       "      <td>513_78037</td>\n",
       "      <td>Lagenorhynchus acutus</td>\n",
       "      <td>Atlantic White-sided Dolphin</td>\n",
       "      <td>41.551990</td>\n",
       "      <td>-69.633260</td>\n",
       "      <td>2012-06-07 15:09:55</td>\n",
       "      <td>17.0</td>\n",
       "    </tr>\n",
       "  </tbody>\n",
       "</table>\n",
       "</div>"
      ],
      "text/plain": [
       "      row_id             scientific                        common   latitude  \\\n",
       "1  513_10705  Lagenorhynchus acutus  Atlantic White-sided Dolphin  41.534278   \n",
       "2  513_10174  Lagenorhynchus acutus  Atlantic White-sided Dolphin  42.791179   \n",
       "3  513_58345  Lagenorhynchus acutus  Atlantic White-sided Dolphin  42.882440   \n",
       "4   513_8875  Lagenorhynchus acutus  Atlantic White-sided Dolphin  42.153778   \n",
       "5  513_78037  Lagenorhynchus acutus  Atlantic White-sided Dolphin  41.551990   \n",
       "\n",
       "   longitude           date_time  count  \n",
       "1 -69.658585 2003-06-28 17:54:11   12.0  \n",
       "2 -69.262154 2003-06-24 17:04:46   20.0  \n",
       "3 -70.132550 2012-07-17 13:38:45    4.0  \n",
       "4 -70.053111 2003-05-15 10:27:09   50.0  \n",
       "5 -69.633260 2012-06-07 15:09:55   17.0  "
      ]
     },
     "execution_count": 6,
     "metadata": {},
     "output_type": "execute_result"
    }
   ],
   "source": [
    "dfcens.head()"
   ]
  },
  {
   "cell_type": "code",
   "execution_count": 9,
   "metadata": {},
   "outputs": [],
   "source": [
    "dfcens.sort_values(by='date_time', inplace=True)\n",
    "dfcens.set_index('date_time', inplace=True)"
   ]
  },
  {
   "cell_type": "code",
   "execution_count": 15,
   "metadata": {
    "collapsed": true
   },
   "outputs": [],
   "source": [
    "dfcens.meta={'scientific':'Lagenorhynchus acutus',\n",
    "             'common': 'Atlantic White-sided Dolphin'}\n",
    "dfcens.drop(['scientific', 'common'], axis=1, inplace=True)\n",
    "dfcens.to_pickle(fp)"
   ]
  },
  {
   "cell_type": "code",
   "execution_count": 20,
   "metadata": {},
   "outputs": [
    {
     "data": {
      "text/html": [
       "<div>\n",
       "<style>\n",
       "    .dataframe thead tr:only-child th {\n",
       "        text-align: right;\n",
       "    }\n",
       "\n",
       "    .dataframe thead th {\n",
       "        text-align: left;\n",
       "    }\n",
       "\n",
       "    .dataframe tbody tr th {\n",
       "        vertical-align: top;\n",
       "    }\n",
       "</style>\n",
       "<table border=\"1\" class=\"dataframe\">\n",
       "  <thead>\n",
       "    <tr style=\"text-align: right;\">\n",
       "      <th></th>\n",
       "      <th>index</th>\n",
       "      <th>row_id</th>\n",
       "      <th>latitude</th>\n",
       "      <th>longitude</th>\n",
       "      <th>count</th>\n",
       "    </tr>\n",
       "    <tr>\n",
       "      <th>date_time</th>\n",
       "      <th></th>\n",
       "      <th></th>\n",
       "      <th></th>\n",
       "      <th></th>\n",
       "      <th></th>\n",
       "    </tr>\n",
       "  </thead>\n",
       "  <tbody>\n",
       "    <tr>\n",
       "      <th>1999-03-21 10:35:40</th>\n",
       "      <td>13</td>\n",
       "      <td>513_1555</td>\n",
       "      <td>42.5245</td>\n",
       "      <td>-69.910000</td>\n",
       "      <td>9.0</td>\n",
       "    </tr>\n",
       "    <tr>\n",
       "      <th>1999-03-26 11:02:25</th>\n",
       "      <td>434</td>\n",
       "      <td>513_1643</td>\n",
       "      <td>42.3685</td>\n",
       "      <td>-70.120667</td>\n",
       "      <td>4.0</td>\n",
       "    </tr>\n",
       "    <tr>\n",
       "      <th>1999-03-26 11:03:09</th>\n",
       "      <td>435</td>\n",
       "      <td>513_1644</td>\n",
       "      <td>42.3680</td>\n",
       "      <td>-70.091500</td>\n",
       "      <td>6.0</td>\n",
       "    </tr>\n",
       "    <tr>\n",
       "      <th>1999-03-26 11:48:23</th>\n",
       "      <td>679</td>\n",
       "      <td>513_1652</td>\n",
       "      <td>42.4525</td>\n",
       "      <td>-70.535667</td>\n",
       "      <td>4.0</td>\n",
       "    </tr>\n",
       "    <tr>\n",
       "      <th>1999-03-26 12:20:42</th>\n",
       "      <td>2447</td>\n",
       "      <td>513_82100</td>\n",
       "      <td>42.5330</td>\n",
       "      <td>-69.798667</td>\n",
       "      <td>2.0</td>\n",
       "    </tr>\n",
       "  </tbody>\n",
       "</table>\n",
       "</div>"
      ],
      "text/plain": [
       "                     index     row_id  latitude  longitude  count\n",
       "date_time                                                        \n",
       "1999-03-21 10:35:40     13   513_1555   42.5245 -69.910000    9.0\n",
       "1999-03-26 11:02:25    434   513_1643   42.3685 -70.120667    4.0\n",
       "1999-03-26 11:03:09    435   513_1644   42.3680 -70.091500    6.0\n",
       "1999-03-26 11:48:23    679   513_1652   42.4525 -70.535667    4.0\n",
       "1999-03-26 12:20:42   2447  513_82100   42.5330 -69.798667    2.0"
      ]
     },
     "execution_count": 20,
     "metadata": {},
     "output_type": "execute_result"
    }
   ],
   "source": [
    "dfcens.head()"
   ]
  },
  {
   "cell_type": "code",
   "execution_count": 21,
   "metadata": {
    "collapsed": true
   },
   "outputs": [],
   "source": [
    "dfcens.drop('index', axis=1, inplace=True)"
   ]
  },
  {
   "cell_type": "code",
   "execution_count": 24,
   "metadata": {},
   "outputs": [],
   "source": [
    "fpm = fp.split('.')[0] + '_month.pkl'"
   ]
  },
  {
   "cell_type": "code",
   "execution_count": 26,
   "metadata": {
    "collapsed": true
   },
   "outputs": [],
   "source": [
    "dfmo = dfcens.resample('M').sum()"
   ]
  },
  {
   "cell_type": "code",
   "execution_count": 68,
   "metadata": {
    "collapsed": true
   },
   "outputs": [],
   "source": [
    "dfmo.to_pickle(fpm)"
   ]
  },
  {
   "cell_type": "code",
   "execution_count": 27,
   "metadata": {},
   "outputs": [
    {
     "data": {
      "text/html": [
       "<div>\n",
       "<style>\n",
       "    .dataframe thead tr:only-child th {\n",
       "        text-align: right;\n",
       "    }\n",
       "\n",
       "    .dataframe thead th {\n",
       "        text-align: left;\n",
       "    }\n",
       "\n",
       "    .dataframe tbody tr th {\n",
       "        vertical-align: top;\n",
       "    }\n",
       "</style>\n",
       "<table border=\"1\" class=\"dataframe\">\n",
       "  <thead>\n",
       "    <tr style=\"text-align: right;\">\n",
       "      <th></th>\n",
       "      <th>latitude</th>\n",
       "      <th>longitude</th>\n",
       "      <th>count</th>\n",
       "    </tr>\n",
       "    <tr>\n",
       "      <th>date_time</th>\n",
       "      <th></th>\n",
       "      <th></th>\n",
       "      <th></th>\n",
       "    </tr>\n",
       "  </thead>\n",
       "  <tbody>\n",
       "    <tr>\n",
       "      <th>1999-03-31</th>\n",
       "      <td>554.017168</td>\n",
       "      <td>-908.495835</td>\n",
       "      <td>157.0</td>\n",
       "    </tr>\n",
       "    <tr>\n",
       "      <th>1999-04-30</th>\n",
       "      <td>418.719665</td>\n",
       "      <td>-698.096906</td>\n",
       "      <td>190.0</td>\n",
       "    </tr>\n",
       "    <tr>\n",
       "      <th>1999-05-31</th>\n",
       "      <td>705.392667</td>\n",
       "      <td>-1179.254834</td>\n",
       "      <td>227.0</td>\n",
       "    </tr>\n",
       "    <tr>\n",
       "      <th>1999-06-30</th>\n",
       "      <td>41.971000</td>\n",
       "      <td>-69.269500</td>\n",
       "      <td>45.0</td>\n",
       "    </tr>\n",
       "    <tr>\n",
       "      <th>1999-07-31</th>\n",
       "      <td>NaN</td>\n",
       "      <td>NaN</td>\n",
       "      <td>NaN</td>\n",
       "    </tr>\n",
       "  </tbody>\n",
       "</table>\n",
       "</div>"
      ],
      "text/plain": [
       "              latitude    longitude  count\n",
       "date_time                                 \n",
       "1999-03-31  554.017168  -908.495835  157.0\n",
       "1999-04-30  418.719665  -698.096906  190.0\n",
       "1999-05-31  705.392667 -1179.254834  227.0\n",
       "1999-06-30   41.971000   -69.269500   45.0\n",
       "1999-07-31         NaN          NaN    NaN"
      ]
     },
     "execution_count": 27,
     "metadata": {},
     "output_type": "execute_result"
    }
   ],
   "source": [
    "dfmo.head()"
   ]
  },
  {
   "cell_type": "code",
   "execution_count": 39,
   "metadata": {},
   "outputs": [
    {
     "data": {
      "text/plain": [
       "1     15\n",
       "2     15\n",
       "3     16\n",
       "4     16\n",
       "5     16\n",
       "6     16\n",
       "7     16\n",
       "8     16\n",
       "9     16\n",
       "10    16\n",
       "11    16\n",
       "12    16\n",
       "Name: date_time, dtype: int64"
      ]
     },
     "execution_count": 39,
     "metadata": {},
     "output_type": "execute_result"
    }
   ],
   "source": [
    "dfmo.index.month.value_counts().sort_index()"
   ]
  },
  {
   "cell_type": "code",
   "execution_count": 85,
   "metadata": {},
   "outputs": [
    {
     "data": {
      "image/png": "[encoded data removed]",
      "text/plain": [
       "<matplotlib.figure.Figure at 0x7fed60d8b358>"
      ]
     },
     "metadata": {},
     "output_type": "display_data"
    }
   ],
   "source": [
    "gp = dfmo.groupby(by=dfmo.index.month)\n",
    "ax = gp['count'].sum().plot(kind='bar');\n",
    "ax.set_title('Lagenorhyncus - count by month')\n",
    "ax.set_ylabel('count');"
   ]
  },
  {
   "cell_type": "code",
   "execution_count": 29,
   "metadata": {},
   "outputs": [],
   "source": [
    "dfy = dfmo.resample('A').sum()"
   ]
  },
  {
   "cell_type": "code",
   "execution_count": 71,
   "metadata": {},
   "outputs": [
    {
     "data": {
      "text/plain": [
       "Int64Index([1999, 2000, 2001, 2002, 2003, 2004, 2005, 2006, 2007, 2008, 2009,\n",
       "            2010, 2011, 2012, 2013, 2014],\n",
       "           dtype='int64', name='date_time')"
      ]
     },
     "execution_count": 71,
     "metadata": {},
     "output_type": "execute_result"
    }
   ],
   "source": [
    "dfy.index.year"
   ]
  },
  {
   "cell_type": "code",
   "execution_count": 80,
   "metadata": {},
   "outputs": [
    {
     "data": {
      "image/png": "[encoded data removed]",
      "text/plain": [
       "<matplotlib.figure.Figure at 0x7fed652fd7b8>"
      ]
     },
     "metadata": {},
     "output_type": "display_data"
    }
   ],
   "source": [
    "ax = dfy.plot(x=dfy.index.year,y='count', kind='bar');\n",
    "ax.set_xlabel('year'), ax.set_ylabel('count');\n",
    "ax.set_title('Lagenorhyncus - yearly count');"
   ]
  },
  {
   "cell_type": "code",
   "execution_count": null,
   "metadata": {
    "collapsed": true
   },
   "outputs": [],
   "source": []
  }
 ],
 "metadata": {
  "kernelspec": {
   "display_name": "Python [conda root]",
   "language": "python",
   "name": "conda-root-py"
  },
  "language_info": {
   "codemirror_mode": {
    "name": "ipython",
    "version": 3
   },
   "file_extension": ".py",
   "mimetype": "text/x-python",
   "name": "python",
   "nbconvert_exporter": "python",
   "pygments_lexer": "ipython3",
   "version": "3.5.3"
  }
 },
 "nbformat": 4,
 "nbformat_minor": 2
}
